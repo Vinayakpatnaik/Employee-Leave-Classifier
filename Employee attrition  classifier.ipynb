{
 "cells": [
  {
   "cell_type": "markdown",
   "metadata": {},
   "source": [
    "# Employee-Attrition-Classifier\n",
    "\n",
    "## In this project, I will analyze the data, perform exploratory data analysis (EDA), and extract valuable insights from the features. Furthermore, I will attempt to build a predictive model that can help us determine whether employees are likely to leave the company or stay based on various independent features."
   ]
  },
  {
   "cell_type": "markdown",
   "metadata": {},
   "source": [
    "## Import libraries"
   ]
  },
  {
   "cell_type": "code",
   "execution_count": 1,
   "metadata": {},
   "outputs": [
    {
     "name": "stderr",
     "output_type": "stream",
     "text": [
      "\n",
      "Bad key text.latex.preview in file C:\\Users\\vinay\\anaconda3\\lib\\site-packages\\matplotlib\\mpl-data\\stylelib\\_classic_test.mplstyle, line 123 ('text.latex.preview : False')\n",
      "You probably need to get an updated matplotlibrc file from\n",
      "https://github.com/matplotlib/matplotlib/blob/v3.5.3/matplotlibrc.template\n",
      "or from the matplotlib source distribution\n",
      "\n",
      "Bad key mathtext.fallback_to_cm in file C:\\Users\\vinay\\anaconda3\\lib\\site-packages\\matplotlib\\mpl-data\\stylelib\\_classic_test.mplstyle, line 155 ('mathtext.fallback_to_cm : True  # When True, use symbols from the Computer Modern')\n",
      "You probably need to get an updated matplotlibrc file from\n",
      "https://github.com/matplotlib/matplotlib/blob/v3.5.3/matplotlibrc.template\n",
      "or from the matplotlib source distribution\n",
      "\n",
      "Bad key savefig.jpeg_quality in file C:\\Users\\vinay\\anaconda3\\lib\\site-packages\\matplotlib\\mpl-data\\stylelib\\_classic_test.mplstyle, line 418 ('savefig.jpeg_quality: 95       # when a jpeg is saved, the default quality parameter.')\n",
      "You probably need to get an updated matplotlibrc file from\n",
      "https://github.com/matplotlib/matplotlib/blob/v3.5.3/matplotlibrc.template\n",
      "or from the matplotlib source distribution\n",
      "\n",
      "Bad key keymap.all_axes in file C:\\Users\\vinay\\anaconda3\\lib\\site-packages\\matplotlib\\mpl-data\\stylelib\\_classic_test.mplstyle, line 466 ('keymap.all_axes : a                 # enable all axes')\n",
      "You probably need to get an updated matplotlibrc file from\n",
      "https://github.com/matplotlib/matplotlib/blob/v3.5.3/matplotlibrc.template\n",
      "or from the matplotlib source distribution\n",
      "\n",
      "Bad key animation.avconv_path in file C:\\Users\\vinay\\anaconda3\\lib\\site-packages\\matplotlib\\mpl-data\\stylelib\\_classic_test.mplstyle, line 477 ('animation.avconv_path: avconv     # Path to avconv binary. Without full path')\n",
      "You probably need to get an updated matplotlibrc file from\n",
      "https://github.com/matplotlib/matplotlib/blob/v3.5.3/matplotlibrc.template\n",
      "or from the matplotlib source distribution\n",
      "\n",
      "Bad key animation.avconv_args in file C:\\Users\\vinay\\anaconda3\\lib\\site-packages\\matplotlib\\mpl-data\\stylelib\\_classic_test.mplstyle, line 479 ('animation.avconv_args:            # Additional arguments to pass to avconv')\n",
      "You probably need to get an updated matplotlibrc file from\n",
      "https://github.com/matplotlib/matplotlib/blob/v3.5.3/matplotlibrc.template\n",
      "or from the matplotlib source distribution\n"
     ]
    }
   ],
   "source": [
    "import numpy as np                                     # linear alegbra\n",
    "import pandas as pd                                    # data processing\n",
    "import seaborn as sns                                  # ploting graphs\n",
    "import matplotlib.pyplot as plt\n",
    "\n",
    "from sklearn.preprocessing import LabelEncoder         # converting categorical to numerical\n",
    "from sklearn.preprocessing import StandardScaler       # scaling\n",
    "from sklearn.model_selection import train_test_split   # spiltting the data\n",
    "from sklearn.linear_model import LogisticRegression    # model building algorithms\n",
    "from sklearn.tree import DecisionTreeClassifier\n",
    "from sklearn.svm import SVC\n",
    "from sklearn.neighbors import KNeighborsClassifier\n",
    "from sklearn.ensemble import RandomForestClassifier\n",
    "from sklearn.model_selection import GridSearchCV       # hyperparameter tuning\n",
    "                                                       # evaluation\n",
    "from sklearn.metrics import confusion_matrix, accuracy_score, classification_report\n",
    "\n",
    "import warnings                                        # for ingore warnings\n",
    "warnings.filterwarnings('ignore')"
   ]
  },
  {
   "cell_type": "markdown",
   "metadata": {},
   "source": [
    "### Load and display the dataset"
   ]
  },
  {
   "cell_type": "code",
   "execution_count": 2,
   "metadata": {},
   "outputs": [
    {
     "data": {
      "text/html": [
       "<div>\n",
       "<style scoped>\n",
       "    .dataframe tbody tr th:only-of-type {\n",
       "        vertical-align: middle;\n",
       "    }\n",
       "\n",
       "    .dataframe tbody tr th {\n",
       "        vertical-align: top;\n",
       "    }\n",
       "\n",
       "    .dataframe thead th {\n",
       "        text-align: right;\n",
       "    }\n",
       "</style>\n",
       "<table border=\"1\" class=\"dataframe\">\n",
       "  <thead>\n",
       "    <tr style=\"text-align: right;\">\n",
       "      <th></th>\n",
       "      <th>Education</th>\n",
       "      <th>JoiningYear</th>\n",
       "      <th>City</th>\n",
       "      <th>PaymentTier</th>\n",
       "      <th>Age</th>\n",
       "      <th>Gender</th>\n",
       "      <th>EverBenched</th>\n",
       "      <th>ExperienceInCurrentDomain</th>\n",
       "      <th>LeaveOrNot</th>\n",
       "    </tr>\n",
       "  </thead>\n",
       "  <tbody>\n",
       "    <tr>\n",
       "      <th>0</th>\n",
       "      <td>Bachelors</td>\n",
       "      <td>2017</td>\n",
       "      <td>Bangalore</td>\n",
       "      <td>3</td>\n",
       "      <td>34</td>\n",
       "      <td>Male</td>\n",
       "      <td>No</td>\n",
       "      <td>0</td>\n",
       "      <td>0</td>\n",
       "    </tr>\n",
       "    <tr>\n",
       "      <th>1</th>\n",
       "      <td>Bachelors</td>\n",
       "      <td>2013</td>\n",
       "      <td>Pune</td>\n",
       "      <td>1</td>\n",
       "      <td>28</td>\n",
       "      <td>Female</td>\n",
       "      <td>No</td>\n",
       "      <td>3</td>\n",
       "      <td>1</td>\n",
       "    </tr>\n",
       "    <tr>\n",
       "      <th>2</th>\n",
       "      <td>Bachelors</td>\n",
       "      <td>2014</td>\n",
       "      <td>New Delhi</td>\n",
       "      <td>3</td>\n",
       "      <td>38</td>\n",
       "      <td>Female</td>\n",
       "      <td>No</td>\n",
       "      <td>2</td>\n",
       "      <td>0</td>\n",
       "    </tr>\n",
       "    <tr>\n",
       "      <th>3</th>\n",
       "      <td>Masters</td>\n",
       "      <td>2016</td>\n",
       "      <td>Bangalore</td>\n",
       "      <td>3</td>\n",
       "      <td>27</td>\n",
       "      <td>Male</td>\n",
       "      <td>No</td>\n",
       "      <td>5</td>\n",
       "      <td>1</td>\n",
       "    </tr>\n",
       "    <tr>\n",
       "      <th>4</th>\n",
       "      <td>Masters</td>\n",
       "      <td>2017</td>\n",
       "      <td>Pune</td>\n",
       "      <td>3</td>\n",
       "      <td>24</td>\n",
       "      <td>Male</td>\n",
       "      <td>Yes</td>\n",
       "      <td>2</td>\n",
       "      <td>1</td>\n",
       "    </tr>\n",
       "  </tbody>\n",
       "</table>\n",
       "</div>"
      ],
      "text/plain": [
       "   Education  JoiningYear       City  PaymentTier  Age  Gender EverBenched  \\\n",
       "0  Bachelors         2017  Bangalore            3   34    Male          No   \n",
       "1  Bachelors         2013       Pune            1   28  Female          No   \n",
       "2  Bachelors         2014  New Delhi            3   38  Female          No   \n",
       "3    Masters         2016  Bangalore            3   27    Male          No   \n",
       "4    Masters         2017       Pune            3   24    Male         Yes   \n",
       "\n",
       "   ExperienceInCurrentDomain  LeaveOrNot  \n",
       "0                          0           0  \n",
       "1                          3           1  \n",
       "2                          2           0  \n",
       "3                          5           1  \n",
       "4                          2           1  "
      ]
     },
     "execution_count": 2,
     "metadata": {},
     "output_type": "execute_result"
    }
   ],
   "source": [
    "df = pd.read_csv('Employee.csv')\n",
    "df.head()"
   ]
  },
  {
   "cell_type": "markdown",
   "metadata": {},
   "source": [
    "## EDA"
   ]
  },
  {
   "cell_type": "code",
   "execution_count": 3,
   "metadata": {},
   "outputs": [
    {
     "name": "stdout",
     "output_type": "stream",
     "text": [
      "(4653, 9)\n",
      "<class 'pandas.core.frame.DataFrame'>\n",
      "RangeIndex: 4653 entries, 0 to 4652\n",
      "Data columns (total 9 columns):\n",
      " #   Column                     Non-Null Count  Dtype \n",
      "---  ------                     --------------  ----- \n",
      " 0   Education                  4653 non-null   object\n",
      " 1   JoiningYear                4653 non-null   int64 \n",
      " 2   City                       4653 non-null   object\n",
      " 3   PaymentTier                4653 non-null   int64 \n",
      " 4   Age                        4653 non-null   int64 \n",
      " 5   Gender                     4653 non-null   object\n",
      " 6   EverBenched                4653 non-null   object\n",
      " 7   ExperienceInCurrentDomain  4653 non-null   int64 \n",
      " 8   LeaveOrNot                 4653 non-null   int64 \n",
      "dtypes: int64(5), object(4)\n",
      "memory usage: 327.3+ KB\n"
     ]
    }
   ],
   "source": [
    "print(df.shape)\n",
    "df.info()"
   ]
  },
  {
   "cell_type": "code",
   "execution_count": 4,
   "metadata": {},
   "outputs": [
    {
     "data": {
      "text/html": [
       "<div>\n",
       "<style scoped>\n",
       "    .dataframe tbody tr th:only-of-type {\n",
       "        vertical-align: middle;\n",
       "    }\n",
       "\n",
       "    .dataframe tbody tr th {\n",
       "        vertical-align: top;\n",
       "    }\n",
       "\n",
       "    .dataframe thead th {\n",
       "        text-align: right;\n",
       "    }\n",
       "</style>\n",
       "<table border=\"1\" class=\"dataframe\">\n",
       "  <thead>\n",
       "    <tr style=\"text-align: right;\">\n",
       "      <th></th>\n",
       "      <th>Education</th>\n",
       "      <th>JoiningYear</th>\n",
       "      <th>City</th>\n",
       "      <th>PaymentTier</th>\n",
       "      <th>Age</th>\n",
       "      <th>Gender</th>\n",
       "      <th>EverBenched</th>\n",
       "      <th>ExperienceInCurrentDomain</th>\n",
       "      <th>LeaveOrNot</th>\n",
       "    </tr>\n",
       "  </thead>\n",
       "  <tbody>\n",
       "    <tr>\n",
       "      <th>count</th>\n",
       "      <td>4653</td>\n",
       "      <td>4653.000000</td>\n",
       "      <td>4653</td>\n",
       "      <td>4653.000000</td>\n",
       "      <td>4653.000000</td>\n",
       "      <td>4653</td>\n",
       "      <td>4653</td>\n",
       "      <td>4653.000000</td>\n",
       "      <td>4653.000000</td>\n",
       "    </tr>\n",
       "    <tr>\n",
       "      <th>unique</th>\n",
       "      <td>3</td>\n",
       "      <td>NaN</td>\n",
       "      <td>3</td>\n",
       "      <td>NaN</td>\n",
       "      <td>NaN</td>\n",
       "      <td>2</td>\n",
       "      <td>2</td>\n",
       "      <td>NaN</td>\n",
       "      <td>NaN</td>\n",
       "    </tr>\n",
       "    <tr>\n",
       "      <th>top</th>\n",
       "      <td>Bachelors</td>\n",
       "      <td>NaN</td>\n",
       "      <td>Bangalore</td>\n",
       "      <td>NaN</td>\n",
       "      <td>NaN</td>\n",
       "      <td>Male</td>\n",
       "      <td>No</td>\n",
       "      <td>NaN</td>\n",
       "      <td>NaN</td>\n",
       "    </tr>\n",
       "    <tr>\n",
       "      <th>freq</th>\n",
       "      <td>3601</td>\n",
       "      <td>NaN</td>\n",
       "      <td>2228</td>\n",
       "      <td>NaN</td>\n",
       "      <td>NaN</td>\n",
       "      <td>2778</td>\n",
       "      <td>4175</td>\n",
       "      <td>NaN</td>\n",
       "      <td>NaN</td>\n",
       "    </tr>\n",
       "    <tr>\n",
       "      <th>mean</th>\n",
       "      <td>NaN</td>\n",
       "      <td>2015.062970</td>\n",
       "      <td>NaN</td>\n",
       "      <td>2.698259</td>\n",
       "      <td>29.393295</td>\n",
       "      <td>NaN</td>\n",
       "      <td>NaN</td>\n",
       "      <td>2.905652</td>\n",
       "      <td>0.343864</td>\n",
       "    </tr>\n",
       "    <tr>\n",
       "      <th>std</th>\n",
       "      <td>NaN</td>\n",
       "      <td>1.863377</td>\n",
       "      <td>NaN</td>\n",
       "      <td>0.561435</td>\n",
       "      <td>4.826087</td>\n",
       "      <td>NaN</td>\n",
       "      <td>NaN</td>\n",
       "      <td>1.558240</td>\n",
       "      <td>0.475047</td>\n",
       "    </tr>\n",
       "    <tr>\n",
       "      <th>min</th>\n",
       "      <td>NaN</td>\n",
       "      <td>2012.000000</td>\n",
       "      <td>NaN</td>\n",
       "      <td>1.000000</td>\n",
       "      <td>22.000000</td>\n",
       "      <td>NaN</td>\n",
       "      <td>NaN</td>\n",
       "      <td>0.000000</td>\n",
       "      <td>0.000000</td>\n",
       "    </tr>\n",
       "    <tr>\n",
       "      <th>25%</th>\n",
       "      <td>NaN</td>\n",
       "      <td>2013.000000</td>\n",
       "      <td>NaN</td>\n",
       "      <td>3.000000</td>\n",
       "      <td>26.000000</td>\n",
       "      <td>NaN</td>\n",
       "      <td>NaN</td>\n",
       "      <td>2.000000</td>\n",
       "      <td>0.000000</td>\n",
       "    </tr>\n",
       "    <tr>\n",
       "      <th>50%</th>\n",
       "      <td>NaN</td>\n",
       "      <td>2015.000000</td>\n",
       "      <td>NaN</td>\n",
       "      <td>3.000000</td>\n",
       "      <td>28.000000</td>\n",
       "      <td>NaN</td>\n",
       "      <td>NaN</td>\n",
       "      <td>3.000000</td>\n",
       "      <td>0.000000</td>\n",
       "    </tr>\n",
       "    <tr>\n",
       "      <th>75%</th>\n",
       "      <td>NaN</td>\n",
       "      <td>2017.000000</td>\n",
       "      <td>NaN</td>\n",
       "      <td>3.000000</td>\n",
       "      <td>32.000000</td>\n",
       "      <td>NaN</td>\n",
       "      <td>NaN</td>\n",
       "      <td>4.000000</td>\n",
       "      <td>1.000000</td>\n",
       "    </tr>\n",
       "    <tr>\n",
       "      <th>max</th>\n",
       "      <td>NaN</td>\n",
       "      <td>2018.000000</td>\n",
       "      <td>NaN</td>\n",
       "      <td>3.000000</td>\n",
       "      <td>41.000000</td>\n",
       "      <td>NaN</td>\n",
       "      <td>NaN</td>\n",
       "      <td>7.000000</td>\n",
       "      <td>1.000000</td>\n",
       "    </tr>\n",
       "  </tbody>\n",
       "</table>\n",
       "</div>"
      ],
      "text/plain": [
       "        Education  JoiningYear       City  PaymentTier          Age Gender  \\\n",
       "count        4653  4653.000000       4653  4653.000000  4653.000000   4653   \n",
       "unique          3          NaN          3          NaN          NaN      2   \n",
       "top     Bachelors          NaN  Bangalore          NaN          NaN   Male   \n",
       "freq         3601          NaN       2228          NaN          NaN   2778   \n",
       "mean          NaN  2015.062970        NaN     2.698259    29.393295    NaN   \n",
       "std           NaN     1.863377        NaN     0.561435     4.826087    NaN   \n",
       "min           NaN  2012.000000        NaN     1.000000    22.000000    NaN   \n",
       "25%           NaN  2013.000000        NaN     3.000000    26.000000    NaN   \n",
       "50%           NaN  2015.000000        NaN     3.000000    28.000000    NaN   \n",
       "75%           NaN  2017.000000        NaN     3.000000    32.000000    NaN   \n",
       "max           NaN  2018.000000        NaN     3.000000    41.000000    NaN   \n",
       "\n",
       "       EverBenched  ExperienceInCurrentDomain   LeaveOrNot  \n",
       "count         4653                4653.000000  4653.000000  \n",
       "unique           2                        NaN          NaN  \n",
       "top             No                        NaN          NaN  \n",
       "freq          4175                        NaN          NaN  \n",
       "mean           NaN                   2.905652     0.343864  \n",
       "std            NaN                   1.558240     0.475047  \n",
       "min            NaN                   0.000000     0.000000  \n",
       "25%            NaN                   2.000000     0.000000  \n",
       "50%            NaN                   3.000000     0.000000  \n",
       "75%            NaN                   4.000000     1.000000  \n",
       "max            NaN                   7.000000     1.000000  "
      ]
     },
     "execution_count": 4,
     "metadata": {},
     "output_type": "execute_result"
    }
   ],
   "source": [
    "df.describe(include='all')"
   ]
  },
  {
   "cell_type": "code",
   "execution_count": 5,
   "metadata": {},
   "outputs": [
    {
     "name": "stdout",
     "output_type": "stream",
     "text": [
      "{'Education': array(['Bachelors', 'Masters', 'PHD'], dtype=object)}\n",
      "{'JoiningYear': array([2017, 2013, 2014, 2016, 2015, 2012, 2018], dtype=int64)}\n",
      "{'City': array(['Bangalore', 'Pune', 'New Delhi'], dtype=object)}\n",
      "{'PaymentTier': array([3, 1, 2], dtype=int64)}\n",
      "{'Age': array([34, 28, 38, 27, 24, 22, 23, 37, 32, 39, 29, 30, 36, 31, 25, 26, 40,\n",
      "       35, 33, 41], dtype=int64)}\n",
      "{'Gender': array(['Male', 'Female'], dtype=object)}\n",
      "{'EverBenched': array(['No', 'Yes'], dtype=object)}\n",
      "{'ExperienceInCurrentDomain': array([0, 3, 2, 5, 1, 4, 7, 6], dtype=int64)}\n",
      "{'LeaveOrNot': array([0, 1], dtype=int64)}\n"
     ]
    }
   ],
   "source": [
    "# To check if there are any special characters in place of values\n",
    "for i in df.columns:\n",
    "    print({i:df[i].unique()})"
   ]
  },
  {
   "cell_type": "code",
   "execution_count": 6,
   "metadata": {},
   "outputs": [
    {
     "data": {
      "text/plain": [
       "Education                    0\n",
       "JoiningYear                  0\n",
       "City                         0\n",
       "PaymentTier                  0\n",
       "Age                          0\n",
       "Gender                       0\n",
       "EverBenched                  0\n",
       "ExperienceInCurrentDomain    0\n",
       "LeaveOrNot                   0\n",
       "dtype: int64"
      ]
     },
     "execution_count": 6,
     "metadata": {},
     "output_type": "execute_result"
    }
   ],
   "source": [
    "df.isnull().sum()"
   ]
  },
  {
   "cell_type": "code",
   "execution_count": 7,
   "metadata": {},
   "outputs": [
    {
     "data": {
      "text/plain": [
       "1889"
      ]
     },
     "execution_count": 7,
     "metadata": {},
     "output_type": "execute_result"
    }
   ],
   "source": [
    "df.duplicated().sum()"
   ]
  },
  {
   "cell_type": "code",
   "execution_count": 8,
   "metadata": {},
   "outputs": [
    {
     "name": "stdout",
     "output_type": "stream",
     "text": [
      "(2764, 9)\n"
     ]
    }
   ],
   "source": [
    "df.drop_duplicates(inplace=True)\n",
    "print(df.shape)"
   ]
  },
  {
   "cell_type": "markdown",
   "metadata": {},
   "source": [
    "##### Inference : \n",
    "1. The dataset consists of 9 fields and 4653 records.\n",
    "2. The dataset does not contain null values (no missing values).\n",
    "3. However, it does contain duplicate values, and all those duplicate records have been eliminated.\n",
    "4. The data types include integers and objects, with objects needing to be converted into integers for further modeling."
   ]
  },
  {
   "cell_type": "markdown",
   "metadata": {},
   "source": [
    "#### Data visualization"
   ]
  },
  {
   "cell_type": "code",
   "execution_count": 9,
   "metadata": {
    "scrolled": false
   },
   "outputs": [
    {
     "data": {
      "image/png": "[encoded data removed]",
      "text/plain": [
       "<Figure size 432x288 with 1 Axes>"
      ]
     },
     "metadata": {},
     "output_type": "display_data"
    }
   ],
   "source": [
    "#DV 1: Gender distribtion by pie chart \n",
    "\n",
    "df.Gender.value_counts().plot.pie(startangle=0,autopct=\"%1.2f%%\")\n",
    "plt.title(\"Gender Distribution\",fontsize=15)\n",
    "plt.legend()\n",
    "plt.show()"
   ]
  },
  {
   "cell_type": "markdown",
   "metadata": {},
   "source": [
    "The male distribution is higher than that of females, accounting for 59.7%."
   ]
  },
  {
   "cell_type": "code",
   "execution_count": 10,
   "metadata": {},
   "outputs": [
    {
     "name": "stdout",
     "output_type": "stream",
     "text": [
      "0    1676\n",
      "1    1088\n",
      "Name: LeaveOrNot, dtype: int64\n"
     ]
    },
    {
     "data": {
      "image/png": "[encoded data removed]",
      "text/plain": [
       "<Figure size 432x288 with 1 Axes>"
      ]
     },
     "metadata": {
      "needs_background": "light"
     },
     "output_type": "display_data"
    }
   ],
   "source": [
    "#DV 2: Leave or not distribution by countplot\n",
    "\n",
    "print(df.LeaveOrNot.value_counts())\n",
    "sns.countplot(data=df,x=df.LeaveOrNot,hue='Gender',palette='icefire')\n",
    "\n",
    "plt.show()"
   ]
  },
  {
   "cell_type": "markdown",
   "metadata": {},
   "source": [
    "We can observe that Class 0 has a majority of male employees, indicating a higher male retention rate, while female employees are more likely to leave the job compared to their male counterparts"
   ]
  },
  {
   "cell_type": "code",
   "execution_count": 11,
   "metadata": {},
   "outputs": [
    {
     "name": "stdout",
     "output_type": "stream",
     "text": [
      "['Education', 'City', 'Gender', 'EverBenched']\n",
      "['JoiningYear', 'PaymentTier', 'Age', 'ExperienceInCurrentDomain', 'LeaveOrNot']\n"
     ]
    }
   ],
   "source": [
    "#segregate variables\n",
    "\n",
    "df_obj = []                                         # counter\n",
    "df_num = []\n",
    "\n",
    "for i in df:\n",
    "    if df[i].dtype==\"object\":\n",
    "        df_obj.append(i)\n",
    "    else:\n",
    "        df_num.append(i)\n",
    "        \n",
    "print(df_obj)\n",
    "print(df_num)"
   ]
  },
  {
   "cell_type": "code",
   "execution_count": 12,
   "metadata": {
    "scrolled": false
   },
   "outputs": [
    {
     "data": {
      "image/png": "[encoded data removed]",
      "text/plain": [
       "<Figure size 432x288 with 1 Axes>"
      ]
     },
     "metadata": {
      "needs_background": "light"
     },
     "output_type": "display_data"
    },
    {
     "data": {
      "image/png": "[encoded data removed]",
      "text/plain": [
       "<Figure size 432x288 with 1 Axes>"
      ]
     },
     "metadata": {
      "needs_background": "light"
     },
     "output_type": "display_data"
    },
    {
     "data": {
      "image/png": "[encoded data removed]",
      "text/plain": [
       "<Figure size 432x288 with 1 Axes>"
      ]
     },
     "metadata": {
      "needs_background": "light"
     },
     "output_type": "display_data"
    },
    {
     "data": {
      "image/png": "[encoded data removed]",
      "text/plain": [
       "<Figure size 432x288 with 1 Axes>"
      ]
     },
     "metadata": {
      "needs_background": "light"
     },
     "output_type": "display_data"
    },
    {
     "data": {
      "image/png": "[encoded data removed]",
      "text/plain": [
       "<Figure size 432x288 with 1 Axes>"
      ]
     },
     "metadata": {
      "needs_background": "light"
     },
     "output_type": "display_data"
    }
   ],
   "source": [
    "#DV 3: Distribtion varaibles using histogram\n",
    "for i in df_num:\n",
    "    plt.hist(x=df[i])\n",
    "    plt.title(f'Distribution of {i}')\n",
    "    plt.xlabel(i)\n",
    "    plt.ylabel('Frequency')\n",
    "    plt.show()"
   ]
  },
  {
   "cell_type": "code",
   "execution_count": 13,
   "metadata": {},
   "outputs": [
    {
     "name": "stdout",
     "output_type": "stream",
     "text": [
      "# JoiningYear:\n",
      "Skewness: -0.133834\n",
      "Kurtosis: -1.215769\n",
      "--------------------\n",
      "# PaymentTier:\n",
      "Skewness: -1.499623\n",
      "Kurtosis: 1.039196\n",
      "--------------------\n",
      "# Age:\n",
      "Skewness: 0.381145\n",
      "Kurtosis: -1.005427\n",
      "--------------------\n",
      "# ExperienceInCurrentDomain:\n",
      "Skewness: 0.074072\n",
      "Kurtosis: -0.982764\n",
      "--------------------\n",
      "# LeaveOrNot:\n",
      "Skewness: 0.435674\n",
      "Kurtosis: -1.811499\n",
      "--------------------\n"
     ]
    }
   ],
   "source": [
    "# check for skewness and kurtosis of each numerical variable.\n",
    "\n",
    "for col in df_num:\n",
    "    print(f\"# {col}:\")\n",
    "    print(\"Skewness: %f\" % df[col].skew())\n",
    "    print(\"Kurtosis: %f\" % df[col].kurt())\n",
    "    print(\"--------------------\")"
   ]
  },
  {
   "cell_type": "code",
   "execution_count": 14,
   "metadata": {
    "scrolled": false
   },
   "outputs": [
    {
     "data": {
      "image/png": "[encoded data removed]",
      "text/plain": [
       "<Figure size 432x288 with 1 Axes>"
      ]
     },
     "metadata": {
      "needs_background": "light"
     },
     "output_type": "display_data"
    },
    {
     "data": {
      "image/png": "[encoded data removed]",
      "text/plain": [
       "<Figure size 432x288 with 1 Axes>"
      ]
     },
     "metadata": {
      "needs_background": "light"
     },
     "output_type": "display_data"
    },
    {
     "data": {
      "image/png": "[encoded data removed]",
      "text/plain": [
       "<Figure size 432x288 with 1 Axes>"
      ]
     },
     "metadata": {
      "needs_background": "light"
     },
     "output_type": "display_data"
    },
    {
     "data": {
      "image/png": "[encoded data removed]",
      "text/plain": [
       "<Figure size 432x288 with 1 Axes>"
      ]
     },
     "metadata": {
      "needs_background": "light"
     },
     "output_type": "display_data"
    },
    {
     "data": {
      "image/png": "[encoded data removed]",
      "text/plain": [
       "<Figure size 432x288 with 1 Axes>"
      ]
     },
     "metadata": {
      "needs_background": "light"
     },
     "output_type": "display_data"
    }
   ],
   "source": [
    "#DV 4: Checking for outliers using box plot\n",
    "\n",
    "for x in df_num:\n",
    "    df.boxplot(column=x)\n",
    "    plt.show()"
   ]
  },
  {
   "cell_type": "markdown",
   "metadata": {},
   "source": [
    "##### Inference : \n",
    "There is no outliers and no multicollinearity between independent variables"
   ]
  },
  {
   "cell_type": "code",
   "execution_count": 15,
   "metadata": {
    "scrolled": false
   },
   "outputs": [
    {
     "data": {
      "image/png": "[encoded data removed]",
      "text/plain": [
       "<Figure size 720x360 with 1 Axes>"
      ]
     },
     "metadata": {
      "needs_background": "light"
     },
     "output_type": "display_data"
    }
   ],
   "source": [
    "#DV 5: Age distribtion\n",
    "\n",
    "plt.figure(figsize =(10,5))\n",
    "sns.histplot(x=df.Age,hue=df.LeaveOrNot,kde=True)\n",
    "plt.title('Age distribtion',size=10)\n",
    "plt.show()"
   ]
  },
  {
   "cell_type": "markdown",
   "metadata": {},
   "source": [
    "The age group ranging from 27 to 28 has the highest count of employees. <br>We can observe that the age group of 24 to 26 tends to leave the job more compared to the rest of the age groups"
   ]
  },
  {
   "cell_type": "code",
   "execution_count": 16,
   "metadata": {},
   "outputs": [
    {
     "data": {
      "image/png": "[encoded data removed]",
      "text/plain": [
       "<Figure size 1080x504 with 3 Axes>"
      ]
     },
     "metadata": {
      "needs_background": "light"
     },
     "output_type": "display_data"
    }
   ],
   "source": [
    "#DV 6: Distribtion of Education, City and Payment tiering using countplot\n",
    "\n",
    "plt.figure(figsize=(15,7))\n",
    "plt.subplot(131)\n",
    "sns.countplot(data=df,x=df.Education,hue='LeaveOrNot',palette='pastel')\n",
    "plt.title('Education Distribtion',size = 10)\n",
    "plt.ylabel('No. of Employees',size=15)\n",
    "\n",
    "plt.subplot(132)\n",
    "sns.countplot(data=df,x=df.City,hue='LeaveOrNot',palette='Set1')\n",
    "plt.title('City Distribtion',size = 10)\n",
    "\n",
    "plt.subplot(133)\n",
    "sns.countplot(data=df,x=df.PaymentTier,hue='LeaveOrNot',palette='deep')\n",
    "plt.title('Payment Tier Distribution',size = 10)\n",
    "\n",
    "plt.show()"
   ]
  },
  {
   "cell_type": "markdown",
   "metadata": {},
   "source": [
    "1. The largest number of employees resides in Bangalore, belongs to Payment Tier 3, and holds a Bachelor's degree.\n",
    "2. We can observe that almost half of the employees with a Master's degree tend to leave, while a larger number of employees with Bachelor's and Ph.D. degrees prefer to stay.\n",
    "3. More than half of the employees residing in Pune leave their jobs, whereas employees from Bangalore and Delhi do not.\n",
    "4. We can see that the attrition rate is higher for employees in the second payment tier."
   ]
  },
  {
   "cell_type": "code",
   "execution_count": 17,
   "metadata": {},
   "outputs": [
    {
     "data": {
      "image/png": "[encoded data removed]",
      "text/plain": [
       "<Figure size 1080x504 with 2 Axes>"
      ]
     },
     "metadata": {
      "needs_background": "light"
     },
     "output_type": "display_data"
    }
   ],
   "source": [
    "#DV 7: Employee Benched and Joining year distribution\n",
    "\n",
    "plt.figure(figsize=(15,7))\n",
    "plt.subplot(121)\n",
    "sns.countplot(data=df,x=df.EverBenched,hue='LeaveOrNot',palette='pastel')\n",
    "plt.title('Benched Employee Distribtion',size = 10)\n",
    "plt.ylabel('No. of Employees',size=15)\n",
    "\n",
    "plt.subplot(122)\n",
    "sns.countplot(data=df,x=df.JoiningYear,hue='LeaveOrNot',palette='Set1')\n",
    "plt.title('Joining Year Distribtion',size = 10)\n",
    "plt.show()"
   ]
  },
  {
   "cell_type": "markdown",
   "metadata": {},
   "source": [
    "1. We can clearly see that most of the employees who are benched leave the company.\n",
    "2. The highest number of employees who joined was in the year 2017.\n",
    "3. In 2018, the attrition rate was higher than the retention rate."
   ]
  },
  {
   "cell_type": "code",
   "execution_count": 18,
   "metadata": {},
   "outputs": [
    {
     "data": {
      "image/png": "[encoded data removed]",
      "text/plain": [
       "<Figure size 1080x432 with 2 Axes>"
      ]
     },
     "metadata": {
      "needs_background": "light"
     },
     "output_type": "display_data"
    }
   ],
   "source": [
    "#DV 8: Agewise Distribution of Payment tier and Experience\n",
    "\n",
    "plt.figure(figsize=(15,6))\n",
    "plt.subplot(121)\n",
    "sns.barplot(data=df,x='PaymentTier',y='Age',hue='Gender')\n",
    "plt.ylim(0,40)\n",
    "\n",
    "plt.subplot(122)\n",
    "sns.barplot(data=df,x='ExperienceInCurrentDomain',y='Age',hue='Gender')\n",
    "\n",
    "plt.show()"
   ]
  },
  {
   "cell_type": "markdown",
   "metadata": {},
   "source": [
    "Across all tiers, the age is almost equally distributed, with males slightly dominating in the 1st and 3rd tiers, while females dominate in the 2nd tier.<br>\n",
    "In terms of experience, employees with the most experience are the oldest, with females being the majority."
   ]
  },
  {
   "cell_type": "code",
   "execution_count": 19,
   "metadata": {},
   "outputs": [
    {
     "name": "stdout",
     "output_type": "stream",
     "text": [
      "Requirement already up-to-date: seaborn in c:\\users\\vinay\\anaconda3\\lib\\site-packages (0.12.2)\n",
      "Requirement already satisfied, skipping upgrade: pandas>=0.25 in c:\\users\\vinay\\anaconda3\\lib\\site-packages (from seaborn) (1.3.5)\n",
      "Requirement already satisfied, skipping upgrade: typing_extensions; python_version < \"3.8\" in c:\\users\\vinay\\anaconda3\\lib\\site-packages (from seaborn) (4.7.1)\n",
      "Requirement already satisfied, skipping upgrade: matplotlib!=3.6.1,>=3.1 in c:\\users\\vinay\\anaconda3\\lib\\site-packages (from seaborn) (3.5.3)\n",
      "Requirement already satisfied, skipping upgrade: numpy!=1.24.0,>=1.17 in c:\\users\\vinay\\anaconda3\\lib\\site-packages (from seaborn) (1.18.1)\n",
      "Requirement already satisfied, skipping upgrade: pytz>=2017.3 in c:\\users\\vinay\\anaconda3\\lib\\site-packages (from pandas>=0.25->seaborn) (2019.3)\n",
      "Requirement already satisfied, skipping upgrade: python-dateutil>=2.7.3 in c:\\users\\vinay\\anaconda3\\lib\\site-packages (from pandas>=0.25->seaborn) (2.8.1)\n",
      "Requirement already satisfied, skipping upgrade: cycler>=0.10 in c:\\users\\vinay\\anaconda3\\lib\\site-packages (from matplotlib!=3.6.1,>=3.1->seaborn) (0.10.0)\n",
      "Requirement already satisfied, skipping upgrade: pyparsing>=2.2.1 in c:\\users\\vinay\\anaconda3\\lib\\site-packages (from matplotlib!=3.6.1,>=3.1->seaborn) (2.4.6)\n",
      "Requirement already satisfied, skipping upgrade: fonttools>=4.22.0 in c:\\users\\vinay\\anaconda3\\lib\\site-packages (from matplotlib!=3.6.1,>=3.1->seaborn) (4.38.0)\n",
      "Requirement already satisfied, skipping upgrade: kiwisolver>=1.0.1 in c:\\users\\vinay\\anaconda3\\lib\\site-packages (from matplotlib!=3.6.1,>=3.1->seaborn) (1.1.0)\n",
      "Requirement already satisfied, skipping upgrade: pillow>=6.2.0 in c:\\users\\vinay\\anaconda3\\lib\\site-packages (from matplotlib!=3.6.1,>=3.1->seaborn) (7.0.0)\n",
      "Requirement already satisfied, skipping upgrade: packaging>=20.0 in c:\\users\\vinay\\anaconda3\\lib\\site-packages (from matplotlib!=3.6.1,>=3.1->seaborn) (20.1)\n",
      "Requirement already satisfied, skipping upgrade: six>=1.5 in c:\\users\\vinay\\anaconda3\\lib\\site-packages (from python-dateutil>=2.7.3->pandas>=0.25->seaborn) (1.14.0)\n",
      "Requirement already satisfied, skipping upgrade: setuptools in c:\\users\\vinay\\anaconda3\\lib\\site-packages (from kiwisolver>=1.0.1->matplotlib!=3.6.1,>=3.1->seaborn) (45.2.0.post20200210)\n",
      "Note: you may need to restart the kernel to use updated packages.\n"
     ]
    }
   ],
   "source": [
    "pip install seaborn --upgrade"
   ]
  },
  {
   "cell_type": "code",
   "execution_count": 20,
   "metadata": {
    "scrolled": true
   },
   "outputs": [
    {
     "data": {
      "text/html": [
       "<div>\n",
       "<style scoped>\n",
       "    .dataframe tbody tr th:only-of-type {\n",
       "        vertical-align: middle;\n",
       "    }\n",
       "\n",
       "    .dataframe tbody tr th {\n",
       "        vertical-align: top;\n",
       "    }\n",
       "\n",
       "    .dataframe thead th {\n",
       "        text-align: right;\n",
       "    }\n",
       "</style>\n",
       "<table border=\"1\" class=\"dataframe\">\n",
       "  <thead>\n",
       "    <tr style=\"text-align: right;\">\n",
       "      <th></th>\n",
       "      <th></th>\n",
       "      <th>PaymentTier</th>\n",
       "      <th>ExperienceInCurrentDomain</th>\n",
       "    </tr>\n",
       "    <tr>\n",
       "      <th>City</th>\n",
       "      <th>Education</th>\n",
       "      <th></th>\n",
       "      <th></th>\n",
       "    </tr>\n",
       "  </thead>\n",
       "  <tbody>\n",
       "    <tr>\n",
       "      <th rowspan=\"3\" valign=\"top\">Bangalore</th>\n",
       "      <th>Bachelors</th>\n",
       "      <td>3.0</td>\n",
       "      <td>3.0</td>\n",
       "    </tr>\n",
       "    <tr>\n",
       "      <th>Masters</th>\n",
       "      <td>3.0</td>\n",
       "      <td>3.0</td>\n",
       "    </tr>\n",
       "    <tr>\n",
       "      <th>PHD</th>\n",
       "      <td>3.0</td>\n",
       "      <td>3.0</td>\n",
       "    </tr>\n",
       "    <tr>\n",
       "      <th rowspan=\"3\" valign=\"top\">New Delhi</th>\n",
       "      <th>Bachelors</th>\n",
       "      <td>3.0</td>\n",
       "      <td>3.0</td>\n",
       "    </tr>\n",
       "    <tr>\n",
       "      <th>Masters</th>\n",
       "      <td>3.0</td>\n",
       "      <td>3.0</td>\n",
       "    </tr>\n",
       "    <tr>\n",
       "      <th>PHD</th>\n",
       "      <td>3.0</td>\n",
       "      <td>3.0</td>\n",
       "    </tr>\n",
       "    <tr>\n",
       "      <th rowspan=\"3\" valign=\"top\">Pune</th>\n",
       "      <th>Bachelors</th>\n",
       "      <td>3.0</td>\n",
       "      <td>3.0</td>\n",
       "    </tr>\n",
       "    <tr>\n",
       "      <th>Masters</th>\n",
       "      <td>2.0</td>\n",
       "      <td>3.0</td>\n",
       "    </tr>\n",
       "    <tr>\n",
       "      <th>PHD</th>\n",
       "      <td>2.0</td>\n",
       "      <td>2.0</td>\n",
       "    </tr>\n",
       "  </tbody>\n",
       "</table>\n",
       "</div>"
      ],
      "text/plain": [
       "                     PaymentTier  ExperienceInCurrentDomain\n",
       "City      Education                                        \n",
       "Bangalore Bachelors          3.0                        3.0\n",
       "          Masters            3.0                        3.0\n",
       "          PHD                3.0                        3.0\n",
       "New Delhi Bachelors          3.0                        3.0\n",
       "          Masters            3.0                        3.0\n",
       "          PHD                3.0                        3.0\n",
       "Pune      Bachelors          3.0                        3.0\n",
       "          Masters            2.0                        3.0\n",
       "          PHD                2.0                        2.0"
      ]
     },
     "execution_count": 20,
     "metadata": {},
     "output_type": "execute_result"
    }
   ],
   "source": [
    "df.groupby(['City','Education'])[['PaymentTier','ExperienceInCurrentDomain']].mean().round()"
   ]
  },
  {
   "cell_type": "markdown",
   "metadata": {},
   "source": [
    "For most cities and levels of education, the average value is 3 in both Tiering and Years of experience, whereas in a few cases, such as in Pune city, there are some average values of 2 to be found."
   ]
  },
  {
   "cell_type": "markdown",
   "metadata": {},
   "source": [
    "#### Converting categorical(obj) varibles to numerical(int) varibles"
   ]
  },
  {
   "cell_type": "code",
   "execution_count": 21,
   "metadata": {},
   "outputs": [
    {
     "data": {
      "text/html": [
       "<div>\n",
       "<style scoped>\n",
       "    .dataframe tbody tr th:only-of-type {\n",
       "        vertical-align: middle;\n",
       "    }\n",
       "\n",
       "    .dataframe tbody tr th {\n",
       "        vertical-align: top;\n",
       "    }\n",
       "\n",
       "    .dataframe thead th {\n",
       "        text-align: right;\n",
       "    }\n",
       "</style>\n",
       "<table border=\"1\" class=\"dataframe\">\n",
       "  <thead>\n",
       "    <tr style=\"text-align: right;\">\n",
       "      <th></th>\n",
       "      <th>Education</th>\n",
       "      <th>JoiningYear</th>\n",
       "      <th>City</th>\n",
       "      <th>PaymentTier</th>\n",
       "      <th>Age</th>\n",
       "      <th>Gender</th>\n",
       "      <th>EverBenched</th>\n",
       "      <th>ExperienceInCurrentDomain</th>\n",
       "      <th>LeaveOrNot</th>\n",
       "    </tr>\n",
       "  </thead>\n",
       "  <tbody>\n",
       "    <tr>\n",
       "      <th>0</th>\n",
       "      <td>0</td>\n",
       "      <td>2017</td>\n",
       "      <td>0</td>\n",
       "      <td>3</td>\n",
       "      <td>34</td>\n",
       "      <td>1</td>\n",
       "      <td>0</td>\n",
       "      <td>0</td>\n",
       "      <td>0</td>\n",
       "    </tr>\n",
       "    <tr>\n",
       "      <th>1</th>\n",
       "      <td>0</td>\n",
       "      <td>2013</td>\n",
       "      <td>2</td>\n",
       "      <td>1</td>\n",
       "      <td>28</td>\n",
       "      <td>0</td>\n",
       "      <td>0</td>\n",
       "      <td>3</td>\n",
       "      <td>1</td>\n",
       "    </tr>\n",
       "    <tr>\n",
       "      <th>2</th>\n",
       "      <td>0</td>\n",
       "      <td>2014</td>\n",
       "      <td>1</td>\n",
       "      <td>3</td>\n",
       "      <td>38</td>\n",
       "      <td>0</td>\n",
       "      <td>0</td>\n",
       "      <td>2</td>\n",
       "      <td>0</td>\n",
       "    </tr>\n",
       "    <tr>\n",
       "      <th>3</th>\n",
       "      <td>1</td>\n",
       "      <td>2016</td>\n",
       "      <td>0</td>\n",
       "      <td>3</td>\n",
       "      <td>27</td>\n",
       "      <td>1</td>\n",
       "      <td>0</td>\n",
       "      <td>5</td>\n",
       "      <td>1</td>\n",
       "    </tr>\n",
       "    <tr>\n",
       "      <th>4</th>\n",
       "      <td>1</td>\n",
       "      <td>2017</td>\n",
       "      <td>2</td>\n",
       "      <td>3</td>\n",
       "      <td>24</td>\n",
       "      <td>1</td>\n",
       "      <td>1</td>\n",
       "      <td>2</td>\n",
       "      <td>1</td>\n",
       "    </tr>\n",
       "  </tbody>\n",
       "</table>\n",
       "</div>"
      ],
      "text/plain": [
       "   Education  JoiningYear  City  PaymentTier  Age  Gender  EverBenched  \\\n",
       "0          0         2017     0            3   34       1            0   \n",
       "1          0         2013     2            1   28       0            0   \n",
       "2          0         2014     1            3   38       0            0   \n",
       "3          1         2016     0            3   27       1            0   \n",
       "4          1         2017     2            3   24       1            1   \n",
       "\n",
       "   ExperienceInCurrentDomain  LeaveOrNot  \n",
       "0                          0           0  \n",
       "1                          3           1  \n",
       "2                          2           0  \n",
       "3                          5           1  \n",
       "4                          2           1  "
      ]
     },
     "execution_count": 21,
     "metadata": {},
     "output_type": "execute_result"
    }
   ],
   "source": [
    "le=LabelEncoder()                                   # using label encoder\n",
    "\n",
    "for x in df_obj:\n",
    "    df[x]=le.fit_transform(df[x])                   # fit and transform values by label encoder\n",
    "\n",
    "    \n",
    "df.head()"
   ]
  },
  {
   "cell_type": "code",
   "execution_count": 22,
   "metadata": {},
   "outputs": [
    {
     "name": "stdout",
     "output_type": "stream",
     "text": [
      "                           Education  JoiningYear      City  PaymentTier  \\\n",
      "Education                   1.000000     0.113858  0.111153    -0.071380   \n",
      "JoiningYear                 0.113858     1.000000  0.038988    -0.053823   \n",
      "City                        0.111153     0.038988  1.000000    -0.209064   \n",
      "PaymentTier                -0.071380    -0.053823 -0.209064     1.000000   \n",
      "Age                        -0.107324     0.024445 -0.071884     0.067514   \n",
      "Gender                      0.025057     0.007990 -0.098009     0.172051   \n",
      "EverBenched                -0.084810     0.042903 -0.036916     0.057464   \n",
      "ExperienceInCurrentDomain   0.043842    -0.031228  0.002805    -0.004602   \n",
      "\n",
      "                                Age    Gender  EverBenched  \\\n",
      "Education                 -0.107324  0.025057    -0.084810   \n",
      "JoiningYear                0.024445  0.007990     0.042903   \n",
      "City                      -0.071884 -0.098009    -0.036916   \n",
      "PaymentTier                0.067514  0.172051     0.057464   \n",
      "Age                        1.000000  0.037884    -0.078617   \n",
      "Gender                     0.037884  1.000000     0.052479   \n",
      "EverBenched               -0.078617  0.052479     1.000000   \n",
      "ExperienceInCurrentDomain -0.053276 -0.019080     0.002259   \n",
      "\n",
      "                           ExperienceInCurrentDomain  \n",
      "Education                                   0.043842  \n",
      "JoiningYear                                -0.031228  \n",
      "City                                        0.002805  \n",
      "PaymentTier                                -0.004602  \n",
      "Age                                        -0.053276  \n",
      "Gender                                     -0.019080  \n",
      "EverBenched                                 0.002259  \n",
      "ExperienceInCurrentDomain                   1.000000  \n"
     ]
    },
    {
     "data": {
      "image/png": "[encoded data removed]",
      "text/plain": [
       "<Figure size 432x288 with 2 Axes>"
      ]
     },
     "metadata": {
      "needs_background": "light"
     },
     "output_type": "display_data"
    }
   ],
   "source": [
    "#Checking for multicollinearity\n",
    "\n",
    "df_ind = df.iloc[:,0:-1]                                # creating independent varibles   \n",
    "\n",
    "corr_df = df_ind.corr(method='pearson')\n",
    "print(corr_df)\n",
    "\n",
    "sns.heatmap(corr_df,vmax=1.0,vmin=-1.0,annot=True)\n",
    "plt.show()"
   ]
  },
  {
   "cell_type": "markdown",
   "metadata": {},
   "source": [
    "##### Inference : \n",
    "There is no multicollinearity between independent variables"
   ]
  },
  {
   "cell_type": "markdown",
   "metadata": {},
   "source": [
    "#### Spiltting the data into independent and target variable."
   ]
  },
  {
   "cell_type": "code",
   "execution_count": 23,
   "metadata": {},
   "outputs": [
    {
     "data": {
      "text/plain": [
       "(2764, 9)"
      ]
     },
     "execution_count": 23,
     "metadata": {},
     "output_type": "execute_result"
    }
   ],
   "source": [
    "df.shape"
   ]
  },
  {
   "cell_type": "code",
   "execution_count": 24,
   "metadata": {},
   "outputs": [],
   "source": [
    "x=df.iloc[:,0:-1]                                      #independent variables\n",
    "y=df.iloc[:,-1]                                        #Target variable"
   ]
  },
  {
   "cell_type": "code",
   "execution_count": 25,
   "metadata": {},
   "outputs": [
    {
     "name": "stdout",
     "output_type": "stream",
     "text": [
      "(2764, 8)\n",
      "(2764,)\n"
     ]
    }
   ],
   "source": [
    "print(x.shape)\n",
    "print(y.shape)"
   ]
  },
  {
   "cell_type": "markdown",
   "metadata": {},
   "source": [
    "##### Scaling"
   ]
  },
  {
   "cell_type": "code",
   "execution_count": 26,
   "metadata": {},
   "outputs": [
    {
     "name": "stdout",
     "output_type": "stream",
     "text": [
      "[[-0.59027241  1.01270119 -1.03854496 ...  0.89873103 -0.38759371\n",
      "  -1.64213199]\n",
      " [-0.59027241 -1.10863726  1.35956554 ... -1.11267995 -0.38759371\n",
      "   0.22085316]\n",
      " [-0.59027241 -0.57830265  0.16051029 ... -1.11267995 -0.38759371\n",
      "  -0.40014189]\n",
      " ...\n",
      " [ 1.12891932 -1.10863726  1.35956554 ...  0.89873103 -0.38759371\n",
      "  -0.40014189]\n",
      " [ 1.12891932  1.5430358   0.16051029 ...  0.89873103 -0.38759371\n",
      "   1.46284326]\n",
      " [-0.59027241 -1.63897187 -1.03854496 ...  0.89873103  2.58002126\n",
      "  -0.40014189]]\n"
     ]
    }
   ],
   "source": [
    "scaler = StandardScaler()                               \n",
    "scaler.fit(x)                                           #training on data\n",
    "x=scaler.transform(x)                                   #transforming the data\n",
    "\n",
    "print(x)"
   ]
  },
  {
   "cell_type": "markdown",
   "metadata": {},
   "source": [
    "##### Building the model and spilting the data into train and test"
   ]
  },
  {
   "cell_type": "code",
   "execution_count": 27,
   "metadata": {},
   "outputs": [],
   "source": [
    "#split the data into train and test\n",
    "\n",
    "x_train, x_test,y_train, y_test = train_test_split(x, y, test_size=0.2,\n",
    "                                                   random_state=77)"
   ]
  },
  {
   "cell_type": "code",
   "execution_count": 28,
   "metadata": {},
   "outputs": [
    {
     "name": "stdout",
     "output_type": "stream",
     "text": [
      "(2211, 8)\n",
      "(2211,)\n",
      "(553, 8)\n",
      "(553,)\n",
      "Percentage of train data 79.99276410998553\n"
     ]
    }
   ],
   "source": [
    "print(x_train.shape)\n",
    "print(y_train.shape)\n",
    "print(x_test.shape)\n",
    "print(y_test.shape)\n",
    "print(\"Percentage of train data\",x_train.shape[0]/x.shape[0]*100)"
   ]
  },
  {
   "cell_type": "markdown",
   "metadata": {},
   "source": [
    "Applying different algorithms to determine which one achieves the highest accuracy for modeling and, if possible, for tuning"
   ]
  },
  {
   "cell_type": "code",
   "execution_count": 29,
   "metadata": {},
   "outputs": [],
   "source": [
    "# first, initialize the classificators\n",
    "\n",
    "tree= DecisionTreeClassifier(random_state=77)                       #using the random state for reproducibility\n",
    "knn= KNeighborsClassifier(n_neighbors=5,metric='euclidean')\n",
    "svm= SVC(random_state=77)\n",
    "rf=RandomForestClassifier(n_estimators=100,random_state=77)\n",
    "logreg=LogisticRegression(random_state=77)"
   ]
  },
  {
   "cell_type": "code",
   "execution_count": 30,
   "metadata": {},
   "outputs": [
    {
     "name": "stdout",
     "output_type": "stream",
     "text": [
      "DecisionTreeClassifier :\n",
      "[[258  70]\n",
      " [ 92 133]]\n",
      "The accuracy of the  DecisionTreeClassifier  model is  70.70524412296564\n",
      "Classification report:\n",
      "               precision    recall  f1-score   support\n",
      "\n",
      "           0       0.74      0.79      0.76       328\n",
      "           1       0.66      0.59      0.62       225\n",
      "\n",
      "    accuracy                           0.71       553\n",
      "   macro avg       0.70      0.69      0.69       553\n",
      "weighted avg       0.70      0.71      0.70       553\n",
      "\n",
      "\n",
      "\n",
      "KNeighborsClassifier :\n",
      "[[293  35]\n",
      " [104 121]]\n",
      "The accuracy of the  KNeighborsClassifier  model is  74.86437613019892\n",
      "Classification report:\n",
      "               precision    recall  f1-score   support\n",
      "\n",
      "           0       0.74      0.89      0.81       328\n",
      "           1       0.78      0.54      0.64       225\n",
      "\n",
      "    accuracy                           0.75       553\n",
      "   macro avg       0.76      0.72      0.72       553\n",
      "weighted avg       0.75      0.75      0.74       553\n",
      "\n",
      "\n",
      "\n",
      "SVC :\n",
      "[[313  15]\n",
      " [ 96 129]]\n",
      "The accuracy of the  SVC  model is  79.92766726943941\n",
      "Classification report:\n",
      "               precision    recall  f1-score   support\n",
      "\n",
      "           0       0.77      0.95      0.85       328\n",
      "           1       0.90      0.57      0.70       225\n",
      "\n",
      "    accuracy                           0.80       553\n",
      "   macro avg       0.83      0.76      0.77       553\n",
      "weighted avg       0.82      0.80      0.79       553\n",
      "\n",
      "\n",
      "\n",
      "RandomForestClassifier :\n",
      "[[275  53]\n",
      " [ 94 131]]\n",
      "The accuracy of the  RandomForestClassifier  model is  73.41772151898735\n",
      "Classification report:\n",
      "               precision    recall  f1-score   support\n",
      "\n",
      "           0       0.75      0.84      0.79       328\n",
      "           1       0.71      0.58      0.64       225\n",
      "\n",
      "    accuracy                           0.73       553\n",
      "   macro avg       0.73      0.71      0.71       553\n",
      "weighted avg       0.73      0.73      0.73       553\n",
      "\n",
      "\n",
      "\n",
      "LogisticRegression :\n",
      "[[278  50]\n",
      " [146  79]]\n",
      "The accuracy of the  LogisticRegression  model is  64.55696202531645\n",
      "Classification report:\n",
      "               precision    recall  f1-score   support\n",
      "\n",
      "           0       0.66      0.85      0.74       328\n",
      "           1       0.61      0.35      0.45       225\n",
      "\n",
      "    accuracy                           0.65       553\n",
      "   macro avg       0.63      0.60      0.59       553\n",
      "weighted avg       0.64      0.65      0.62       553\n",
      "\n",
      "\n",
      "\n"
     ]
    }
   ],
   "source": [
    "#create a list with the objects \n",
    "models= [tree, knn, svm, rf, logreg]\n",
    "\n",
    "for model in models:\n",
    "    model.fit(x_train, y_train)                                     # fit the model\n",
    "    y_pred= model.predict(x_test)                                   # then predict on the test set\n",
    "    accuracy= accuracy_score(y_test, y_pred) \n",
    "    clf_report= classification_report(y_test, y_pred)\n",
    "    print(type(model).__name__,\":\")\n",
    "    print(confusion_matrix(y_test,y_pred))\n",
    "    print(\"The accuracy of the \",type(model).__name__, \" model is \", accuracy*100 )\n",
    "    print(\"Classification report:\\n\", clf_report)\n",
    "    print(\"\\n\")"
   ]
  },
  {
   "cell_type": "markdown",
   "metadata": {},
   "source": [
    "##### Inferences :\n",
    "1. Among the models used, SVC has achieved the highest accuracy, with achieving 79.92%.\n",
    "2. Additionally, we can infer that the lower accuracy of these models may be attributed to the low recall for class 1,  possibly due to the relatively less amount of data in class 1 when compared to class 2.\n",
    "3. Hence, we can use SMOTE to address the imbalance in the data and evaluate whether it leads to improvements in recall and accuracy. \n",
    "4. We will proceed with fine-tuning the SVC model to explore its potential for further improvement."
   ]
  },
  {
   "cell_type": "markdown",
   "metadata": {},
   "source": [
    "#### SMOTE\n",
    "Synthetic minority oversampling Technique. This technique allows us to upsample the minority class observation to reach the level of majority class by creating synthetic samples similar to existing samples"
   ]
  },
  {
   "cell_type": "code",
   "execution_count": 31,
   "metadata": {},
   "outputs": [
    {
     "data": {
      "text/plain": [
       "0    1676\n",
       "1    1088\n",
       "Name: LeaveOrNot, dtype: int64"
      ]
     },
     "execution_count": 31,
     "metadata": {},
     "output_type": "execute_result"
    }
   ],
   "source": [
    "df.LeaveOrNot.value_counts()"
   ]
  },
  {
   "cell_type": "code",
   "execution_count": 32,
   "metadata": {},
   "outputs": [
    {
     "name": "stdout",
     "output_type": "stream",
     "text": [
      "(2764, 8)\n",
      "(2764,)\n"
     ]
    }
   ],
   "source": [
    "X = df.values[:,:-1]\n",
    "Y = df.values[:,-1]\n",
    "print(X.shape)\n",
    "print(Y.shape)"
   ]
  },
  {
   "cell_type": "code",
   "execution_count": 33,
   "metadata": {},
   "outputs": [],
   "source": [
    "#scaling\n",
    "scaler.fit(X)\n",
    "X = scaler.transform(X)"
   ]
  },
  {
   "cell_type": "code",
   "execution_count": 34,
   "metadata": {},
   "outputs": [],
   "source": [
    "#Split the data into test and train\n",
    "X_train, X_test, Y_train, Y_test = train_test_split(X, Y, test_size=0.2,\n",
    "                                                    random_state=10)"
   ]
  },
  {
   "cell_type": "code",
   "execution_count": 35,
   "metadata": {},
   "outputs": [
    {
     "name": "stdout",
     "output_type": "stream",
     "text": [
      "Before OverSampling, counts of label '1':  862\n",
      "Before OverSampling, counts of label '0':  1349\n",
      "After OverSampling, the shape of train_X:  (2698, 8)\n",
      "After OverSampling, the shape of train_y:  (2698,)\n",
      "After OverSampling, counts of label '1':  1349\n",
      "After OverSampling, counts of label '0':  1349\n"
     ]
    }
   ],
   "source": [
    "print(\"Before OverSampling, counts of label '1': \", (sum(Y_train == 1)))\n",
    "print(\"Before OverSampling, counts of label '0': \", (sum(Y_train == 0)))\n",
    "  \n",
    "# import SMOTE from imblearn library\n",
    "from imblearn.over_sampling import SMOTE\n",
    "sm = SMOTE(random_state = 77,k_neighbors=5)\n",
    "X_train_res, Y_train_res = sm.fit_resample(X_train, Y_train)\n",
    "  \n",
    "print('After OverSampling, the shape of train_X: ', (X_train_res.shape))\n",
    "print('After OverSampling, the shape of train_y: ', (Y_train_res.shape))\n",
    "  \n",
    "print(\"After OverSampling, counts of label '1': \", (sum(Y_train_res == 1)))\n",
    "print(\"After OverSampling, counts of label '0': \", (sum(Y_train_res == 0)))"
   ]
  },
  {
   "cell_type": "code",
   "execution_count": 36,
   "metadata": {},
   "outputs": [
    {
     "name": "stdout",
     "output_type": "stream",
     "text": [
      "DecisionTreeClassifier :\n",
      "[[241  86]\n",
      " [ 80 146]]\n",
      "The accuracy of the  DecisionTreeClassifier  model is  69.98191681735986\n",
      "Classification report:\n",
      "               precision    recall  f1-score   support\n",
      "\n",
      "           0       0.75      0.74      0.74       327\n",
      "           1       0.63      0.65      0.64       226\n",
      "\n",
      "    accuracy                           0.70       553\n",
      "   macro avg       0.69      0.69      0.69       553\n",
      "weighted avg       0.70      0.70      0.70       553\n",
      "\n",
      "\n",
      "\n",
      "KNeighborsClassifier :\n",
      "[[233  94]\n",
      " [ 81 145]]\n",
      "The accuracy of the  KNeighborsClassifier  model is  68.35443037974683\n",
      "Classification report:\n",
      "               precision    recall  f1-score   support\n",
      "\n",
      "           0       0.74      0.71      0.73       327\n",
      "           1       0.61      0.64      0.62       226\n",
      "\n",
      "    accuracy                           0.68       553\n",
      "   macro avg       0.67      0.68      0.68       553\n",
      "weighted avg       0.69      0.68      0.68       553\n",
      "\n",
      "\n",
      "\n",
      "SVC :\n",
      "[[270  57]\n",
      " [ 81 145]]\n",
      "The accuracy of the  SVC  model is  75.04520795660035\n",
      "Classification report:\n",
      "               precision    recall  f1-score   support\n",
      "\n",
      "           0       0.77      0.83      0.80       327\n",
      "           1       0.72      0.64      0.68       226\n",
      "\n",
      "    accuracy                           0.75       553\n",
      "   macro avg       0.74      0.73      0.74       553\n",
      "weighted avg       0.75      0.75      0.75       553\n",
      "\n",
      "\n",
      "\n",
      "RandomForestClassifier :\n",
      "[[257  70]\n",
      " [ 81 145]]\n",
      "The accuracy of the  RandomForestClassifier  model is  72.69439421338156\n",
      "Classification report:\n",
      "               precision    recall  f1-score   support\n",
      "\n",
      "           0       0.76      0.79      0.77       327\n",
      "           1       0.67      0.64      0.66       226\n",
      "\n",
      "    accuracy                           0.73       553\n",
      "   macro avg       0.72      0.71      0.72       553\n",
      "weighted avg       0.73      0.73      0.73       553\n",
      "\n",
      "\n",
      "\n",
      "LogisticRegression :\n",
      "[[197 130]\n",
      " [ 83 143]]\n",
      "The accuracy of the  LogisticRegression  model is  61.48282097649186\n",
      "Classification report:\n",
      "               precision    recall  f1-score   support\n",
      "\n",
      "           0       0.70      0.60      0.65       327\n",
      "           1       0.52      0.63      0.57       226\n",
      "\n",
      "    accuracy                           0.61       553\n",
      "   macro avg       0.61      0.62      0.61       553\n",
      "weighted avg       0.63      0.61      0.62       553\n",
      "\n",
      "\n",
      "\n"
     ]
    }
   ],
   "source": [
    "#bulding models aginw with smote\n",
    "\n",
    "for model in models:\n",
    "    model.fit(X_train_res, Y_train_res)                                     # fit the model\n",
    "    Y_pred= model.predict(X_test)                                   # then predict on the test set\n",
    "    accuracy= accuracy_score(Y_test, Y_pred) \n",
    "    clf_report= classification_report(Y_test, Y_pred)\n",
    "    print(type(model).__name__,\":\")\n",
    "    print(confusion_matrix(Y_test,Y_pred))\n",
    "    print(\"The accuracy of the \",type(model).__name__, \" model is \", accuracy*100 )\n",
    "    print(\"Classification report:\\n\", clf_report)\n",
    "    print(\"\\n\")"
   ]
  },
  {
   "cell_type": "markdown",
   "metadata": {},
   "source": [
    "With the SMOTE optimization technique, the recall of the minority class has increased slightly, but the overall model accuracy is decreasing more in comparison to the increase in recall. Hence, we will attempt to tune the hyperparameters of the SVC model using the GridSearchCV technique, including the SMOTE samples"
   ]
  },
  {
   "cell_type": "markdown",
   "metadata": {},
   "source": [
    "###### Hyperparameter Tuinig using GridSearchCV.<br>\n",
    "\n",
    "GridSearchCV is a hyperparameter tuning technique in machine learning used to systematically search and select the best combination of hyperparameters for a model"
   ]
  },
  {
   "cell_type": "code",
   "execution_count": 40,
   "metadata": {},
   "outputs": [],
   "source": [
    "svm= SVC(random_state=77)\n",
    "parameter_space = {\n",
    "    'kernel': ['rbf', 'sigmoid'],                                      # Various kernel options\n",
    "    'gamma': [0.001, 0.01, 0.1, 0.5],                                  # various gamma options\n",
    "    'C': [10, 50, 100, 150]                                            # varoius C options\n",
    "}\n",
    "\n",
    "svm_ht = GridSearchCV(svm, parameter_space, cv=5)"
   ]
  },
  {
   "cell_type": "code",
   "execution_count": 5,
   "metadata": {
    "collapsed": true
   },
   "outputs": [
    {
     "name": "stdout",
     "output_type": "stream",
     "text": [
      "Requirement already up-to-date: seaborn in c:\\users\\vinay\\anaconda3\\lib\\site-packages (0.12.2)\n",
      "Collecting matplotlib\n",
      "  Using cached matplotlib-3.5.3-cp37-cp37m-win_amd64.whl (7.2 MB)\n",
      "Collecting pandas\n",
      "  Using cached pandas-1.3.5-cp37-cp37m-win_amd64.whl (10.0 MB)\n",
      "Requirement already satisfied, skipping upgrade: numpy!=1.24.0,>=1.17 in c:\\users\\vinay\\anaconda3\\lib\\site-packages (from seaborn) (1.18.1)\n",
      "Requirement already satisfied, skipping upgrade: typing_extensions; python_version < \"3.8\" in c:\\users\\vinay\\anaconda3\\lib\\site-packages (from seaborn) (4.7.1)\n",
      "Requirement already satisfied, skipping upgrade: kiwisolver>=1.0.1 in c:\\users\\vinay\\anaconda3\\lib\\site-packages (from matplotlib) (1.1.0)\n",
      "Requirement already satisfied, skipping upgrade: packaging>=20.0 in c:\\users\\vinay\\anaconda3\\lib\\site-packages (from matplotlib) (20.1)\n",
      "Requirement already satisfied, skipping upgrade: fonttools>=4.22.0 in c:\\users\\vinay\\anaconda3\\lib\\site-packages (from matplotlib) (4.38.0)\n",
      "Requirement already satisfied, skipping upgrade: cycler>=0.10 in c:\\users\\vinay\\anaconda3\\lib\\site-packages (from matplotlib) (0.10.0)\n",
      "Requirement already satisfied, skipping upgrade: pyparsing>=2.2.1 in c:\\users\\vinay\\anaconda3\\lib\\site-packages (from matplotlib) (2.4.6)\n",
      "Requirement already satisfied, skipping upgrade: pillow>=6.2.0 in c:\\users\\vinay\\anaconda3\\lib\\site-packages (from matplotlib) (7.0.0)\n",
      "Requirement already satisfied, skipping upgrade: python-dateutil>=2.7 in c:\\users\\vinay\\anaconda3\\lib\\site-packages (from matplotlib) (2.8.1)\n",
      "Requirement already satisfied, skipping upgrade: pytz>=2017.3 in c:\\users\\vinay\\anaconda3\\lib\\site-packages (from pandas) (2019.3)\n",
      "Requirement already satisfied, skipping upgrade: setuptools in c:\\users\\vinay\\anaconda3\\lib\\site-packages (from kiwisolver>=1.0.1->matplotlib) (45.2.0.post20200210)\n",
      "Requirement already satisfied, skipping upgrade: six in c:\\users\\vinay\\anaconda3\\lib\\site-packages (from packaging>=20.0->matplotlib) (1.14.0)\n",
      "Installing collected packages: matplotlib, pandas\n",
      "  Attempting uninstall: pandas\n",
      "    Found existing installation: pandas 1.0.1\n",
      "    Uninstalling pandas-1.0.1:\n",
      "      Successfully uninstalled pandas-1.0.1\n",
      "Successfully installed matplotlib-3.5.3 pandas-1.3.5\n",
      "Note: you may need to restart the kernel to use updated packages.\n"
     ]
    }
   ],
   "source": [
    "pip install --upgrade seaborn matplotlib pandas"
   ]
  },
  {
   "cell_type": "code",
   "execution_count": 44,
   "metadata": {
    "scrolled": false
   },
   "outputs": [
    {
     "data": {
      "text/plain": [
       "GridSearchCV(cv=5, estimator=SVC(random_state=77),\n",
       "             param_grid={'C': [10, 50, 100, 150],\n",
       "                         'gamma': [0.001, 0.01, 0.1, 0.5],\n",
       "                         'kernel': ['rbf', 'sigmoid']})"
      ]
     },
     "execution_count": 44,
     "metadata": {},
     "output_type": "execute_result"
    }
   ],
   "source": [
    "svm_ht.fit(X_train_res,Y_train_res)                                  # training on the data to find best parameters"
   ]
  },
  {
   "cell_type": "code",
   "execution_count": 45,
   "metadata": {},
   "outputs": [
    {
     "name": "stdout",
     "output_type": "stream",
     "text": [
      "Best Paramter found:\n",
      " {'C': 10, 'gamma': 0.1, 'kernel': 'rbf'}\n",
      "0.7802267573696146\n"
     ]
    }
   ],
   "source": [
    "print('Best Paramter found:\\n',svm_ht.best_params_)                    #best parameters\n",
    "print(svm_ht.best_score_)                                              #accuracy of the best params using the 5-fold CV"
   ]
  },
  {
   "cell_type": "code",
   "execution_count": 46,
   "metadata": {},
   "outputs": [
    {
     "name": "stdout",
     "output_type": "stream",
     "text": [
      "The accuracy of the tuned SVC using  GridSearchCV  model is  81.73598553345388 \n",
      "\n",
      "Classification report:\n",
      "               precision    recall  f1-score   support\n",
      "\n",
      "           0       0.81      0.91      0.86       328\n",
      "           1       0.84      0.68      0.75       225\n",
      "\n",
      "    accuracy                           0.82       553\n",
      "   macro avg       0.82      0.80      0.80       553\n",
      "weighted avg       0.82      0.82      0.81       553\n",
      "\n"
     ]
    },
    {
     "data": {
      "image/png": "[encoded data removed]",
      "text/plain": [
       "<Figure size 432x288 with 1 Axes>"
      ]
     },
     "metadata": {
      "needs_background": "light"
     },
     "output_type": "display_data"
    }
   ],
   "source": [
    "y_pred_ht= svm_ht.predict(x_test)                               \n",
    "accuracy= accuracy_score(y_test, y_pred_ht) \n",
    "clf_report= classification_report(y_test, y_pred_ht)\n",
    "\n",
    "print(\"The accuracy of the tuned SVC using \",type(svm_ht).__name__, \" model is \", accuracy*100, \"\\n\")\n",
    "print(\"Classification report:\\n\", clf_report)\n",
    "\n",
    "cfm = confusion_matrix(y_test,y_pred_ht)\n",
    "sns.heatmap(cfm,annot=True, cbar=False,cmap='Purples', fmt='g')\n",
    "plt.xlabel('Predicted Values')\n",
    "plt.ylabel('Actual Values')\n",
    "plt.show()"
   ]
  },
  {
   "cell_type": "markdown",
   "metadata": {},
   "source": [
    "We can observe that after tuning our model, there is an increase in accuracy, and also the recall of class 1 is increased by 10%. <br>\n",
    "Therefore, after all optimization and tuning techniques, the best model we can select is the tuned SVC with an accuracy of 81.74%, which should be used for predictions on real test data."
   ]
  }
 ],
 "metadata": {
  "kernelspec": {
   "display_name": "Python 3",
   "language": "python",
   "name": "python3"
  },
  "language_info": {
   "codemirror_mode": {
    "name": "ipython",
    "version": 3
   },
   "file_extension": ".py",
   "mimetype": "text/x-python",
   "name": "python",
   "nbconvert_exporter": "python",
   "pygments_lexer": "ipython3",
   "version": "3.7.6"
  }
 },
 "nbformat": 4,
 "nbformat_minor": 5
}
